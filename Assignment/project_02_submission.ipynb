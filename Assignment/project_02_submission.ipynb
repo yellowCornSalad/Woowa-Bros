{
 "cells": [
  {
   "cell_type": "markdown",
   "metadata": {},
   "source": [
    "# STAT 207 Project 02 - Statistical Inference on Video Game Genres: Estimating Proportions and Comparing Hypothesis\n",
    "\n",
    "JJ Park, James Lee, Woo In Shin"
   ]
  },
  {
   "cell_type": "markdown",
   "metadata": {},
   "source": [
    "### Contribution Report\n",
    "\n",
    "If you open this document, you should edit and complete the contribution report.  Please complete this report if you work individually, in a group and your submission is the one to be graded, or in a group but someone else should be graded.\n",
    "\n",
    "In this contribution report below you should list of the following:\n",
    "1. The netID for the project submission to be graded.  (Some groups have each member create their own version of the document, but only one needs to be submitted for grading.  Other groups have only one member compose and submit the project.)\n",
    "2. Names and netIDs of each team member.\n",
    "3. Contributions to report of each team member.\n",
    "\n",
    "*For example:*\n",
    "\n",
    "*<u>Teammates:</u>*\n",
    "\n",
    "*doe105 should be graded.  John Smith (smith92) & Jane Doe (doe105) worked together on all parts of this project*, \n",
    "\n",
    "OR\n",
    "\n",
    "*doe105 should be graded*\n",
    "\n",
    "<i>1. John Smith (smith92) completed parts 1 - 3</i>\n",
    "\n",
    "<i>2. Jane Doe (doe105) completed parts 4 - 5</i>\n",
    "\n",
    "<i>We both reviewed the full document before submission.</i>"
   ]
  },
  {
   "cell_type": "markdown",
   "metadata": {},
   "source": [
    "hosangl2 should be graded. JJ Park (jjp11) & James Lee (hosangl2) & Woo In (Emily) Shin (wishin2) worked together on all parts of this project"
   ]
  },
  {
   "cell_type": "markdown",
   "metadata": {},
   "source": [
    "## 1. Introduction"
   ]
  },
  {
   "cell_type": "markdown",
   "metadata": {},
   "source": [
    "The video game industry is a dynamic and rapidly evolving sector, where understanding the factors that drive a game’s success is crucial for developers and publishers. One of the key elements influencing game performance is its genre, shaping both the gameplay experience and its appeal to different player demographics. In this project, we extend our analysis of the relationship between video game genres and sales performance by using statistical inference methods to make conclusions about the broader gaming market.\n",
    "\n",
    "The video_games.csv dataset contains information about over a thousand video games released between 2004 and 2010, including variables related to game sales, playtime, and genres. This dataset was crowd-sourced from “How Long to Beat” and curated by Dr. Joe Cox, offering a comprehensive view of how games perform across different platforms and genres. By analyzing the video_games.csv dataset, we will estimate a population parameter through confidence intervals and conduct hypothesis testing to explore potential relationships between game genres and key performance metrics such as sales and playtime. This research will help provide insights into how different genres perform in terms of sales and engagement, aiding developers and publishers in making informed decisions for future game development and marketing strategies.\n",
    "\n",
    "The dataset represents a sample of video games released between 2004 and 2010, as it was collected from crowd-sourced data on the “How Long to Beat” platform. This means it does not include every video game released during that time period, only those for which users contributed playtime and sales data. The corresponding population of interest would be all video games released between 2004 and 2010 across various platforms, including those not represented in this dataset. For this project, since the dataset already represents a sample, we will perform analysis on this sample without further random sampling, treating it as representative of the larger population of video games during that period.\n",
    "\n",
    "For Confidence Interval Analytical Tasks: What is the estimated proportion of games within a specific genre across platforms, and what are the reasonable values for this proportion in the broader population?\n",
    "\n",
    "For Hypothesis Testing Analytical Tasks: Which of the two competing hypotheses for our population is more consistent with the evidence from the data in the sample?\n",
    "\n",
    "Motivation: Understanding the proportion of games within a specific genre, such as action, can help game developers and marketers better predict the popularity of future game releases. Additionally, insights into whether playtime significantly differs between genres can guide game design strategies, allowing developers to create more engaging gameplay experiences tailored to player preferences. For instance, knowing that action games typically have longer playtimes may influence resource allocation towards developing longer, more immersive experiences for this genre."
   ]
  },
  {
   "cell_type": "code",
   "execution_count": 44,
   "metadata": {},
   "outputs": [],
   "source": [
    "#Imports here\n",
    "import pandas as pd\n",
    "import matplotlib.pyplot as plt\n",
    "import seaborn as sns\n",
    "sns.set()\n",
    "import numpy as np"
   ]
  },
  {
   "cell_type": "code",
   "execution_count": 45,
   "metadata": {},
   "outputs": [],
   "source": [
    "df = pd.read_csv(\"video_games.csv\", encoding='unicode_escape')"
   ]
  },
  {
   "cell_type": "code",
   "execution_count": 46,
   "metadata": {},
   "outputs": [
    {
     "data": {
      "text/html": [
       "<div>\n",
       "<style scoped>\n",
       "    .dataframe tbody tr th:only-of-type {\n",
       "        vertical-align: middle;\n",
       "    }\n",
       "\n",
       "    .dataframe tbody tr th {\n",
       "        vertical-align: top;\n",
       "    }\n",
       "\n",
       "    .dataframe thead th {\n",
       "        text-align: right;\n",
       "    }\n",
       "</style>\n",
       "<table border=\"1\" class=\"dataframe\">\n",
       "  <thead>\n",
       "    <tr style=\"text-align: right;\">\n",
       "      <th></th>\n",
       "      <th>Console</th>\n",
       "      <th>Title</th>\n",
       "      <th>US Sales (millions)</th>\n",
       "      <th>Block4</th>\n",
       "      <th>Block2</th>\n",
       "      <th>Block1</th>\n",
       "      <th>Block0.5</th>\n",
       "      <th>YearReleased</th>\n",
       "      <th>2004</th>\n",
       "      <th>2005</th>\n",
       "      <th>...</th>\n",
       "      <th>Tricks</th>\n",
       "      <th>Volleyball</th>\n",
       "      <th>Wakeboarding</th>\n",
       "      <th>Wrestling</th>\n",
       "      <th>FirstPerson</th>\n",
       "      <th>Platform</th>\n",
       "      <th>Isometric</th>\n",
       "      <th>SideScrolling</th>\n",
       "      <th>TopDown</th>\n",
       "      <th>ThirdPerson</th>\n",
       "    </tr>\n",
       "  </thead>\n",
       "  <tbody>\n",
       "    <tr>\n",
       "      <th>0</th>\n",
       "      <td>Nintendo DS</td>\n",
       "      <td>Super Mario 64 DS</td>\n",
       "      <td>4.69</td>\n",
       "      <td>1</td>\n",
       "      <td>1</td>\n",
       "      <td>1</td>\n",
       "      <td>1</td>\n",
       "      <td>2004</td>\n",
       "      <td>1</td>\n",
       "      <td>0</td>\n",
       "      <td>...</td>\n",
       "      <td>0</td>\n",
       "      <td>0</td>\n",
       "      <td>0</td>\n",
       "      <td>0</td>\n",
       "      <td>0</td>\n",
       "      <td>1</td>\n",
       "      <td>0</td>\n",
       "      <td>0</td>\n",
       "      <td>0</td>\n",
       "      <td>1</td>\n",
       "    </tr>\n",
       "    <tr>\n",
       "      <th>1</th>\n",
       "      <td>Sony PSP</td>\n",
       "      <td>Lumines: Puzzle Fusion</td>\n",
       "      <td>0.56</td>\n",
       "      <td>0</td>\n",
       "      <td>0</td>\n",
       "      <td>0</td>\n",
       "      <td>1</td>\n",
       "      <td>2004</td>\n",
       "      <td>1</td>\n",
       "      <td>0</td>\n",
       "      <td>...</td>\n",
       "      <td>0</td>\n",
       "      <td>0</td>\n",
       "      <td>0</td>\n",
       "      <td>0</td>\n",
       "      <td>0</td>\n",
       "      <td>0</td>\n",
       "      <td>0</td>\n",
       "      <td>0</td>\n",
       "      <td>0</td>\n",
       "      <td>0</td>\n",
       "    </tr>\n",
       "    <tr>\n",
       "      <th>2</th>\n",
       "      <td>Nintendo DS</td>\n",
       "      <td>WarioWare Touched!</td>\n",
       "      <td>0.54</td>\n",
       "      <td>0</td>\n",
       "      <td>0</td>\n",
       "      <td>0</td>\n",
       "      <td>1</td>\n",
       "      <td>2004</td>\n",
       "      <td>1</td>\n",
       "      <td>0</td>\n",
       "      <td>...</td>\n",
       "      <td>0</td>\n",
       "      <td>0</td>\n",
       "      <td>0</td>\n",
       "      <td>0</td>\n",
       "      <td>0</td>\n",
       "      <td>1</td>\n",
       "      <td>1</td>\n",
       "      <td>1</td>\n",
       "      <td>1</td>\n",
       "      <td>1</td>\n",
       "    </tr>\n",
       "    <tr>\n",
       "      <th>3</th>\n",
       "      <td>Sony PSP</td>\n",
       "      <td>Hot Shots Golf: Open Tee</td>\n",
       "      <td>0.49</td>\n",
       "      <td>0</td>\n",
       "      <td>0</td>\n",
       "      <td>0</td>\n",
       "      <td>0</td>\n",
       "      <td>2004</td>\n",
       "      <td>1</td>\n",
       "      <td>0</td>\n",
       "      <td>...</td>\n",
       "      <td>0</td>\n",
       "      <td>0</td>\n",
       "      <td>0</td>\n",
       "      <td>0</td>\n",
       "      <td>0</td>\n",
       "      <td>0</td>\n",
       "      <td>0</td>\n",
       "      <td>0</td>\n",
       "      <td>0</td>\n",
       "      <td>1</td>\n",
       "    </tr>\n",
       "    <tr>\n",
       "      <th>4</th>\n",
       "      <td>Nintendo DS</td>\n",
       "      <td>Spider-Man 2</td>\n",
       "      <td>0.45</td>\n",
       "      <td>0</td>\n",
       "      <td>0</td>\n",
       "      <td>0</td>\n",
       "      <td>0</td>\n",
       "      <td>2004</td>\n",
       "      <td>1</td>\n",
       "      <td>0</td>\n",
       "      <td>...</td>\n",
       "      <td>0</td>\n",
       "      <td>0</td>\n",
       "      <td>0</td>\n",
       "      <td>0</td>\n",
       "      <td>0</td>\n",
       "      <td>1</td>\n",
       "      <td>0</td>\n",
       "      <td>1</td>\n",
       "      <td>0</td>\n",
       "      <td>1</td>\n",
       "    </tr>\n",
       "  </tbody>\n",
       "</table>\n",
       "<p>5 rows × 166 columns</p>\n",
       "</div>"
      ],
      "text/plain": [
       "       Console                     Title  US Sales (millions)  Block4  Block2  \\\n",
       "0  Nintendo DS         Super Mario 64 DS                 4.69       1       1   \n",
       "1     Sony PSP    Lumines: Puzzle Fusion                 0.56       0       0   \n",
       "2  Nintendo DS        WarioWare Touched!                 0.54       0       0   \n",
       "3     Sony PSP  Hot Shots Golf: Open Tee                 0.49       0       0   \n",
       "4  Nintendo DS              Spider-Man 2                 0.45       0       0   \n",
       "\n",
       "   Block1  Block0.5  YearReleased  2004  2005  ...  Tricks  Volleyball  \\\n",
       "0       1         1          2004     1     0  ...       0           0   \n",
       "1       0         1          2004     1     0  ...       0           0   \n",
       "2       0         1          2004     1     0  ...       0           0   \n",
       "3       0         0          2004     1     0  ...       0           0   \n",
       "4       0         0          2004     1     0  ...       0           0   \n",
       "\n",
       "   Wakeboarding  Wrestling  FirstPerson  Platform Isometric SideScrolling  \\\n",
       "0             0          0            0         1         0             0   \n",
       "1             0          0            0         0         0             0   \n",
       "2             0          0            0         1         1             1   \n",
       "3             0          0            0         0         0             0   \n",
       "4             0          0            0         1         0             1   \n",
       "\n",
       "   TopDown  ThirdPerson  \n",
       "0        0            1  \n",
       "1        0            0  \n",
       "2        1            1  \n",
       "3        0            1  \n",
       "4        0            1  \n",
       "\n",
       "[5 rows x 166 columns]"
      ]
     },
     "execution_count": 46,
     "metadata": {},
     "output_type": "execute_result"
    }
   ],
   "source": [
    "df.head()"
   ]
  },
  {
   "cell_type": "markdown",
   "metadata": {},
   "source": [
    "## 2. Confidence Interval Analytical Tasks"
   ]
  },
  {
   "cell_type": "markdown",
   "metadata": {},
   "source": [
    "Research Question for Confidence Interval Analytical Tasks: What is the estimated proportion of games within a specific genre across platforms, and what are the reasonable values for this proportion in the broader population?\n",
    "\n",
    "This research question has two parts:\n",
    "\n",
    "1. What is the proportion of games in a specific genre (e.g., action) in the dataset?\n",
    "2. What are reasonable values for this proportion in the population (using confidence intervals)?"
   ]
  },
  {
   "cell_type": "code",
   "execution_count": 47,
   "metadata": {},
   "outputs": [
    {
     "name": "stdout",
     "output_type": "stream",
     "text": [
      "        Console                       Title  US Sales (millions)  Block4  \\\n",
      "0   Nintendo DS           Super Mario 64 DS                 4.69       1   \n",
      "2   Nintendo DS          WarioWare Touched!                 0.54       0   \n",
      "4   Nintendo DS                Spider-Man 2                 0.45       0   \n",
      "11  Nintendo DS        Feel the Magic XY/XX                 0.16       0   \n",
      "19  Nintendo DS  Mr. DRILLER: Drill Spirits                 0.09       0   \n",
      "\n",
      "    Block2  Block1  Block0.5  YearReleased  2004  2005  ...  Tricks  \\\n",
      "0        1       1         1          2004     1     0  ...       0   \n",
      "2        0       0         1          2004     1     0  ...       0   \n",
      "4        0       0         0          2004     1     0  ...       0   \n",
      "11       0       0         0          2004     1     0  ...       0   \n",
      "19       0       0         0          2004     1     0  ...       0   \n",
      "\n",
      "    Volleyball  Wakeboarding  Wrestling  FirstPerson  Platform Isometric  \\\n",
      "0            0             0          0            0         1         0   \n",
      "2            0             0          0            0         1         1   \n",
      "4            0             0          0            0         1         0   \n",
      "11           0             0          0            1         1         0   \n",
      "19           0             0          0            0         1         0   \n",
      "\n",
      "   SideScrolling  TopDown  ThirdPerson  \n",
      "0              0        0            1  \n",
      "2              1        1            1  \n",
      "4              1        0            1  \n",
      "11             1        1            1  \n",
      "19             0        0            0  \n",
      "\n",
      "[5 rows x 166 columns]\n",
      "154\n"
     ]
    }
   ],
   "source": [
    "platform_games = df[df['Platform'] == 1]\n",
    "platform_games_clean = platform_games.dropna()\n",
    "print(platform_games_clean.head())\n",
    "print(len(platform_games_clean))"
   ]
  },
  {
   "cell_type": "code",
   "execution_count": 48,
   "metadata": {},
   "outputs": [
    {
     "name": "stdout",
     "output_type": "stream",
     "text": [
      "1770\n",
      "154\n",
      "0.08700564971751412\n"
     ]
    }
   ],
   "source": [
    "total_games = len(df)\n",
    "num_platform_games = len(platform_games_clean)\n",
    "proportion_platform = num_platform_games / total_games\n",
    "\n",
    "print(total_games)\n",
    "print(num_platform_games)\n",
    "print(proportion_platform)"
   ]
  },
  {
   "cell_type": "code",
   "execution_count": 49,
   "metadata": {},
   "outputs": [
    {
     "name": "stdout",
     "output_type": "stream",
     "text": [
      "Lower: 0.07457627118644068\n",
      "Upper: 0.1000141242937853\n"
     ]
    }
   ],
   "source": [
    "sampling_distribution = []\n",
    "n = 1000\n",
    "\n",
    "for i in range(n):\n",
    "    sample = df.sample(n=total_games, replace=True)\n",
    "    proportion_sample = len(sample[sample['Platform'] == 1]) / total_games\n",
    "    sampling_distribution.append(proportion_sample)\n",
    "\n",
    "sampling_distribution = np.array(sampling_distribution)\n",
    "\n",
    "lower = np.quantile(sampling_distribution, 0.025)\n",
    "upper = np.quantile(sampling_distribution, 0.975)\n",
    "\n",
    "print(\"Lower:\", lower)\n",
    "print(\"Upper:\", upper)"
   ]
  },
  {
   "cell_type": "markdown",
   "metadata": {},
   "source": [
    "Proportion of Platform Games in the Sample:\n",
    "From your dataset of 1770 games, 8.7% of the games belong to the Platform genre.\n",
    "\n",
    "Confidence Interval for the Proportion:\n",
    "With 1000 iterations, we calculated a 95% confidence interval for the proportion of Platform games in the broader population. The interval is:\n",
    "\n",
    "    Lower bound: 7.51%\n",
    "    Upper bound: 10.13%\n",
    "\n",
    "Interpretation:\n",
    "We are 95% confident that the true proportion of Platform games in the population of video games released between 2004 and 2010 lies between 7.51% and 10.13%. This means that if we were to take many samples and construct confidence intervals in the same way, approximately 95% of those intervals would contain the true population proportion.\n",
    "\n",
    "Conclusion:\n",
    "This analysis shows the distribution of game genres. Knowing that the proportion of Platform games is likely between 7.51% and 10.13% helps developers and publishers understand the genre’s representation during this period. These insights could influence decisions regarding future game development and marketing strategies."
   ]
  },
  {
   "cell_type": "markdown",
   "metadata": {},
   "source": [
    "## 3. Hypothesis Testing Analytical Tasks"
   ]
  },
  {
   "cell_type": "markdown",
   "metadata": {},
   "source": [
    "For our Hypothesis Testing Analytical Task, we will use the quantitative variable 'US Sales (millions)' categorized by game genres. The research question is as follows:  \n",
    "Which of the two competing hypotheses for our population is more consistent with the evidence from the data in the sample?\n",
    "\n",
    "First, we looked at the distribution of the 'US Sales (millions)' variable by creating two new datasets, one for platform genre games and another for action genre games. By checking the presence of NA values, it was shown that neither dataset contains any missing values. One limitation in cleaning the data is that both datasets have maximum values significantly larger than other entries. These outliers, however, are not significant to classify as abnormal and thus they are rejected from the dropping process.\n",
    "\n",
    "From the descriptive statistics, there are 154 platform genre games in the dataset, with an average US sales figure of 0.6451 million. The data shows considerable variation, as indicated by the standard deviation of 1.4122 million. Sales range from the minimum of 0.01 million to the maximum of 11.35 million. The 25th percentile of sales is 0.09 million, while the median is 0.265 million. The 75th percentile is 0.54 million, meaning that most games fall within a relatively low sales range.\n",
    "The histogram shows a right-skewed distribution, where the majority of the platform games have lower sales concentrated between 0 and 1 million. There's a noticeable peak in this range, followed by a noticeable frequency decline as sales increase. A few games have substantially higher sales, with values extending up to the maximum of 11.35 million. These higher sales figures create a long tail in the distribution, highlighting the presence of outliers.\n",
    "\n",
    "\n",
    "There are 1076 games in the dataset under the action genre, with a mean US sales of 0.5197 million according to descriptive statistics. The data is very spread out, with a standard deviation of 1.0979. Sales range from as low as 0.01 million to as high as 14.66 million. The 25th percentile of sales is 0.09 million, while the median value is 0.2 million. The 75th percentile is 0.4725 million. The histogram result shows a right-skewed distribution, indicating that many action games have sales of less than 1 million units, with the highest peak falling in this range. A long tail represents the outliers with higher sales.\n",
    "\n",
    "Therefore, referring to descriptive analytics, since both datasets have very high maximum values,the median is determined as a more appropriate measure of central tendency than the mean."
   ]
  },
  {
   "cell_type": "code",
   "execution_count": 50,
   "metadata": {},
   "outputs": [
    {
     "name": "stdout",
     "output_type": "stream",
     "text": [
      "US Sales (millions)\n",
      "False    154\n",
      "Name: count, dtype: int64\n"
     ]
    }
   ],
   "source": [
    "platform_games_sales = platform_games[['US Sales (millions)']]\n",
    "print(platform_games_sales['US Sales (millions)'].isna().value_counts())"
   ]
  },
  {
   "cell_type": "code",
   "execution_count": 51,
   "metadata": {},
   "outputs": [
    {
     "name": "stdout",
     "output_type": "stream",
     "text": [
      "    US Sales (millions)\n",
      "0                  4.69\n",
      "2                  0.54\n",
      "4                  0.45\n",
      "11                 0.16\n",
      "19                 0.09\n"
     ]
    }
   ],
   "source": [
    "print(platform_games_sales.head())"
   ]
  },
  {
   "cell_type": "code",
   "execution_count": 52,
   "metadata": {},
   "outputs": [
    {
     "data": {
      "text/html": [
       "<div>\n",
       "<style scoped>\n",
       "    .dataframe tbody tr th:only-of-type {\n",
       "        vertical-align: middle;\n",
       "    }\n",
       "\n",
       "    .dataframe tbody tr th {\n",
       "        vertical-align: top;\n",
       "    }\n",
       "\n",
       "    .dataframe thead th {\n",
       "        text-align: right;\n",
       "    }\n",
       "</style>\n",
       "<table border=\"1\" class=\"dataframe\">\n",
       "  <thead>\n",
       "    <tr style=\"text-align: right;\">\n",
       "      <th></th>\n",
       "      <th>US Sales (millions)</th>\n",
       "    </tr>\n",
       "  </thead>\n",
       "  <tbody>\n",
       "    <tr>\n",
       "      <th>count</th>\n",
       "      <td>154.000000</td>\n",
       "    </tr>\n",
       "    <tr>\n",
       "      <th>mean</th>\n",
       "      <td>0.645130</td>\n",
       "    </tr>\n",
       "    <tr>\n",
       "      <th>std</th>\n",
       "      <td>1.412239</td>\n",
       "    </tr>\n",
       "    <tr>\n",
       "      <th>min</th>\n",
       "      <td>0.010000</td>\n",
       "    </tr>\n",
       "    <tr>\n",
       "      <th>25%</th>\n",
       "      <td>0.090000</td>\n",
       "    </tr>\n",
       "    <tr>\n",
       "      <th>50%</th>\n",
       "      <td>0.265000</td>\n",
       "    </tr>\n",
       "    <tr>\n",
       "      <th>75%</th>\n",
       "      <td>0.540000</td>\n",
       "    </tr>\n",
       "    <tr>\n",
       "      <th>max</th>\n",
       "      <td>11.350000</td>\n",
       "    </tr>\n",
       "  </tbody>\n",
       "</table>\n",
       "</div>"
      ],
      "text/plain": [
       "       US Sales (millions)\n",
       "count           154.000000\n",
       "mean              0.645130\n",
       "std               1.412239\n",
       "min               0.010000\n",
       "25%               0.090000\n",
       "50%               0.265000\n",
       "75%               0.540000\n",
       "max              11.350000"
      ]
     },
     "execution_count": 52,
     "metadata": {},
     "output_type": "execute_result"
    }
   ],
   "source": [
    "platform_games_sales.describe()"
   ]
  },
  {
   "cell_type": "code",
   "execution_count": 53,
   "metadata": {},
   "outputs": [
    {
     "data": {
      "image/png": "[encoded data removed]",
      "text/plain": [
       "<Figure size 640x480 with 1 Axes>"
      ]
     },
     "metadata": {},
     "output_type": "display_data"
    }
   ],
   "source": [
    "platform_games_sales.hist()\n",
    "plt.title('US Sales (millions) of Platform Gengre Games')\n",
    "plt.xlabel('US Sales (millions)')\n",
    "plt.ylabel('Frequency')\n",
    "plt.show()"
   ]
  },
  {
   "cell_type": "code",
   "execution_count": 54,
   "metadata": {},
   "outputs": [
    {
     "name": "stdout",
     "output_type": "stream",
     "text": [
      "US Sales (millions)\n",
      "False    1076\n",
      "Name: count, dtype: int64\n"
     ]
    }
   ],
   "source": [
    "action_games = df[df['Action']==1]\n",
    "action_games = action_games.dropna()\n",
    "action_games_sales = action_games[['US Sales (millions)']]\n",
    "print(action_games_sales['US Sales (millions)'].isna().value_counts())"
   ]
  },
  {
   "cell_type": "code",
   "execution_count": 55,
   "metadata": {},
   "outputs": [
    {
     "name": "stdout",
     "output_type": "stream",
     "text": [
      "    US Sales (millions)\n",
      "0                  4.69\n",
      "2                  0.54\n",
      "4                  0.45\n",
      "10                 0.20\n",
      "11                 0.16\n"
     ]
    }
   ],
   "source": [
    "print(action_games_sales.head())"
   ]
  },
  {
   "cell_type": "code",
   "execution_count": 56,
   "metadata": {},
   "outputs": [
    {
     "data": {
      "text/html": [
       "<div>\n",
       "<style scoped>\n",
       "    .dataframe tbody tr th:only-of-type {\n",
       "        vertical-align: middle;\n",
       "    }\n",
       "\n",
       "    .dataframe tbody tr th {\n",
       "        vertical-align: top;\n",
       "    }\n",
       "\n",
       "    .dataframe thead th {\n",
       "        text-align: right;\n",
       "    }\n",
       "</style>\n",
       "<table border=\"1\" class=\"dataframe\">\n",
       "  <thead>\n",
       "    <tr style=\"text-align: right;\">\n",
       "      <th></th>\n",
       "      <th>US Sales (millions)</th>\n",
       "    </tr>\n",
       "  </thead>\n",
       "  <tbody>\n",
       "    <tr>\n",
       "      <th>count</th>\n",
       "      <td>1076.000000</td>\n",
       "    </tr>\n",
       "    <tr>\n",
       "      <th>mean</th>\n",
       "      <td>0.519703</td>\n",
       "    </tr>\n",
       "    <tr>\n",
       "      <th>std</th>\n",
       "      <td>1.097890</td>\n",
       "    </tr>\n",
       "    <tr>\n",
       "      <th>min</th>\n",
       "      <td>0.010000</td>\n",
       "    </tr>\n",
       "    <tr>\n",
       "      <th>25%</th>\n",
       "      <td>0.090000</td>\n",
       "    </tr>\n",
       "    <tr>\n",
       "      <th>50%</th>\n",
       "      <td>0.200000</td>\n",
       "    </tr>\n",
       "    <tr>\n",
       "      <th>75%</th>\n",
       "      <td>0.472500</td>\n",
       "    </tr>\n",
       "    <tr>\n",
       "      <th>max</th>\n",
       "      <td>14.660000</td>\n",
       "    </tr>\n",
       "  </tbody>\n",
       "</table>\n",
       "</div>"
      ],
      "text/plain": [
       "       US Sales (millions)\n",
       "count          1076.000000\n",
       "mean              0.519703\n",
       "std               1.097890\n",
       "min               0.010000\n",
       "25%               0.090000\n",
       "50%               0.200000\n",
       "75%               0.472500\n",
       "max              14.660000"
      ]
     },
     "execution_count": 56,
     "metadata": {},
     "output_type": "execute_result"
    }
   ],
   "source": [
    "action_games_sales.describe()"
   ]
  },
  {
   "cell_type": "code",
   "execution_count": 57,
   "metadata": {},
   "outputs": [
    {
     "data": {
      "image/png": "[encoded data removed]",
      "text/plain": [
       "<Figure size 640x480 with 1 Axes>"
      ]
     },
     "metadata": {},
     "output_type": "display_data"
    }
   ],
   "source": [
    "action_games_sales.hist()\n",
    "plt.title('US Sales (millions) of Action Gengre Games')\n",
    "plt.xlabel('US Sales (millions)')\n",
    "plt.ylabel('Frequency')\n",
    "plt.show()"
   ]
  },
  {
   "cell_type": "markdown",
   "metadata": {},
   "source": [
    "For the hypothesis test, the null and alternative hypotheses are:\n",
    "\n",
    "H0 : The median sales of the action genre are equal to the median sales of the platform genre.\n",
    "\n",
    "H0 : Median Sales (Action) = Median Sales (Platform)\n",
    "\n",
    "​Ha : The median sales of the action genre are greater than the median sales of the platform genre.\n",
    "\n",
    "Ha : Median Sales (Action) > Median Sales (Platform)\n",
    "\n",
    "We will use significance level of 0.05, since it is the most typical value.\n",
    "\n",
    "The parameter of interest for our hypothesis test is the difference in the median sales between the Action and Platform genres. Specifically, it is the median sales value for Action games minus the median sales value for Platform games. This parameter helps determine whether there is a statistically significant difference in the central tendency of sales between these two genres."
   ]
  },
  {
   "cell_type": "code",
   "execution_count": 58,
   "metadata": {},
   "outputs": [
    {
     "name": "stdout",
     "output_type": "stream",
     "text": [
      "Observed Difference in Medians: -0.065\n"
     ]
    }
   ],
   "source": [
    "median_action_games_sales = np.median(action_games_sales)\n",
    "median_platform_games_sales = np.median(platform_games_sales)\n",
    "median_action_games_sales, median_platform_games_sales\n",
    "\n",
    "observed_diff = median_action_games_sales - median_platform_games_sales\n",
    "print(f\"Observed Difference in Medians: {observed_diff}\")"
   ]
  },
  {
   "cell_type": "code",
   "execution_count": 59,
   "metadata": {},
   "outputs": [
    {
     "data": {
      "image/png": "[encoded data removed]",
      "text/plain": [
       "<Figure size 640x480 with 1 Axes>"
      ]
     },
     "metadata": {},
     "output_type": "display_data"
    }
   ],
   "source": [
    "n_samples = 1000\n",
    "sample_size_action = len(action_games_sales)\n",
    "sample_size_platform = len(platform_games_sales)\n",
    "sampling_diff_medians = []\n",
    "\n",
    "for _ in range(n_samples):\n",
    "    sample_action = action_games_sales.sample(n=sample_size_action, replace=True)\n",
    "    sample_platform = platform_games_sales.sample(n=sample_size_platform, replace=True)\n",
    "    median_sample_action = np.median(sample_action)\n",
    "    median_sample_platform = np.median(sample_platform)\n",
    "    diff_medians = median_sample_action - median_sample_platform\n",
    "    sampling_diff_medians.append(diff_medians)\n",
    "\n",
    "sampling_diff_medians = np.array(sampling_diff_medians)\n",
    "\n",
    "plt.hist(sampling_diff_medians, bins=30, edgecolor='k', alpha=0.7)\n",
    "plt.axvline(observed_diff, color='red', linestyle='dashed', linewidth=1)\n",
    "plt.title('Sampling Distribution of Differences in Medians (Action vs. Platform)')\n",
    "plt.xlabel('Difference in Medians')\n",
    "plt.ylabel('Frequency')\n",
    "plt.show()"
   ]
  },
  {
   "cell_type": "code",
   "execution_count": 60,
   "metadata": {},
   "outputs": [
    {
     "name": "stdout",
     "output_type": "stream",
     "text": [
      "p-value: 0.524\n",
      "Fail to reject the null hypothesis: No significant evidence that action genre has greater median sales.\n"
     ]
    }
   ],
   "source": [
    "p_value = np.sum(sampling_diff_medians >= observed_diff) / n_samples\n",
    "print(f\"p-value: {p_value}\")\n",
    "\n",
    "alpha = 0.05\n",
    "if p_value < alpha:\n",
    "    print(\"Reject the null hypothesis: Action genre has greater median sales.\")\n",
    "else:\n",
    "    print(\"Fail to reject the null hypothesis: No significant evidence that action genre has greater median sales.\")"
   ]
  },
  {
   "cell_type": "markdown",
   "metadata": {},
   "source": [
    "Conclusion:\n",
    "The significance level is set at 0.05, which is a typical threshold used to determine whether the results are statistically significant. The significance level represents the probability of rejecting the null hypothesis when it is actually true. In other words, it is the probability of making a Type I error. By choosing , we are allowing a 5% risk of concluding that the Action genre has higher median sales when, in fact, there is no real difference.\n",
    "\n",
    "The p-value calculated in our test is 0.524, which is much greater than the chosen significance level. The p-value represents the probability of obtaining an observed difference in medians (or one more extreme) if the null hypothesis is true. A p-value of 0.524 suggests that there is a 52.4% chance of observing such a difference in medians purely due to random variation if the null hypothesis is true. Since this p-value is greater than 0.05, it means that the observed difference is not statistically significant.\n",
    "\n",
    "Since the p-value (0.524) is greater than the significance level, we fail to reject the null hypothesis. This means that we do not have enough evidence to support the claim that the median sales of the Action genre are significantly greater than the median sales of the Platform genre. In simpler terms, the data suggests that there is no significant difference between the median sales of these two genres, at least based on the sample provided.\n"
   ]
  },
  {
   "cell_type": "markdown",
   "metadata": {},
   "source": [
    "## Any other type of analysis/question you want to explore with this dataset.\n",
    "\n",
    "<u>Why?</u>: Sometimes undergraduate students will put the research projects that they did for their classes on their resumes when applying for graduate schools, internships, and jobs. If you're interested in showcasing cool analyses to write on your resume, this section could help with that. **(This section is not worth any points though).**"
   ]
  },
  {
   "cell_type": "code",
   "execution_count": null,
   "metadata": {},
   "outputs": [],
   "source": []
  },
  {
   "cell_type": "code",
   "execution_count": null,
   "metadata": {},
   "outputs": [],
   "source": []
  },
  {
   "cell_type": "code",
   "execution_count": null,
   "metadata": {},
   "outputs": [],
   "source": []
  },
  {
   "cell_type": "code",
   "execution_count": null,
   "metadata": {},
   "outputs": [],
   "source": []
  },
  {
   "cell_type": "code",
   "execution_count": null,
   "metadata": {},
   "outputs": [],
   "source": []
  },
  {
   "cell_type": "code",
   "execution_count": null,
   "metadata": {},
   "outputs": [],
   "source": []
  },
  {
   "cell_type": "code",
   "execution_count": null,
   "metadata": {},
   "outputs": [],
   "source": []
  },
  {
   "cell_type": "code",
   "execution_count": null,
   "metadata": {},
   "outputs": [],
   "source": []
  },
  {
   "cell_type": "code",
   "execution_count": null,
   "metadata": {},
   "outputs": [],
   "source": []
  },
  {
   "cell_type": "markdown",
   "metadata": {},
   "source": [
    "## 4. Conclusion"
   ]
  },
  {
   "cell_type": "markdown",
   "metadata": {},
   "source": [
    "In summary, we performed two primary analyses in this project. First, we estimated a population parameter using a confidence interval for the logical variable in our dataset. We reported the proportion for the logical variable in the dataset and constructed a confidence interval for the underlying population. The confidence interval provided a range of reasonable values for the population proportion, giving insight into its possible range of values beyond the sample.\n",
    "\n",
    "Second, we conducted a hypothesis test to evaluate competing theories about a quantitative variable from the dataset. After cleaning the data and performing descriptive analysis, we used inferential statistics to test our hypotheses. Based on the p-value obtained from the sampling distribution, we made a decision regarding the null hypothesis and interpreted the results in the context of our research question.\n",
    "\n",
    "However, several limitations should be acknowledged. Our dataset size and the choice of variables may have constrained the generalizability of the results. Additionally, potential biases in data collection and the need for further adjustments to variables introduced uncertainty in the analysis. These factors may affect the strength of our conclusions and the reliability of the inferences made.\n",
    "\n",
    "For future work, further research could explore additional variables or expand the dataset to include more observations. Additional analysis could focus on refining the hypotheses or testing new ones, and more variety of methods could be applied to reduce bias and improve accuracy."
   ]
  }
 ],
 "metadata": {
  "kernelspec": {
   "display_name": "IS327",
   "language": "python",
   "name": "python3"
  },
  "language_info": {
   "codemirror_mode": {
    "name": "ipython",
    "version": 3
   },
   "file_extension": ".py",
   "mimetype": "text/x-python",
   "name": "python",
   "nbconvert_exporter": "python",
   "pygments_lexer": "ipython3",
   "version": "3.11.0"
  }
 },
 "nbformat": 4,
 "nbformat_minor": 4
}
