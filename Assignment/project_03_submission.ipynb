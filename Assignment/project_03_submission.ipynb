{
 "cells": [
  {
   "cell_type": "markdown",
   "metadata": {},
   "source": [
    "# STAT 207 Project 03 - Analytical Tasks on Video Game Genres: Fitting Linear Regression Model and Logistic Regression Model\n",
    "\n",
    "JJ Park, James Lee, Woo In Shin"
   ]
  },
  {
   "cell_type": "markdown",
   "metadata": {},
   "source": [
    "### Contribution Report\n",
    "\n",
    "If you open this document, you should edit and complete the contribution report.  Please complete this report if you work individually, in a group and your submission is the one to be graded, or in a group but someone else should be graded.\n",
    "\n",
    "In this contribution report below you should list of the following:\n",
    "1. The netID for the project submission to be graded.  (Some groups have each member create their own version of the document, but only one needs to be submitted for grading.  Other groups have only one member compose and submit the project.)\n",
    "2. Names and netIDs of each team member.\n",
    "3. Contributions to report of each team member.\n",
    "\n",
    "*For example:*\n",
    "\n",
    "*<u>Teammates:</u>*\n",
    "\n",
    "*doe105 should be graded.  John Smith (smith92) & Jane Doe (doe105) worked together on all parts of this project*, \n",
    "\n",
    "OR\n",
    "\n",
    "*doe105 should be graded*\n",
    "\n",
    "<i>1. John Smith (smith92) completed parts 1 - 3</i>\n",
    "\n",
    "<i>2. Jane Doe (doe105) completed parts 4 - 5</i>\n",
    "\n",
    "<i>We both reviewed the full document before submission.</i>"
   ]
  },
  {
   "cell_type": "markdown",
   "metadata": {},
   "source": [
    "wishin2 should be graded. JJ Park (jjp11) & James Lee (hosangl2) & Woo In (Emily) Shin (wishin2) worked together on all parts of this project."
   ]
  },
  {
   "cell_type": "markdown",
   "metadata": {},
   "source": [
    "## 1. Introduction"
   ]
  },
  {
   "cell_type": "markdown",
   "metadata": {},
   "source": [
    "The video game industry is a dynamic and rapidly evolving sector, where understanding the factors that drive a game’s success is crucial for developers and publishers. One of the key elements influencing game performance is its genre, shaping both the gameplay experience and its appeal to different player demographics. In this project, we extend our analysis of the relationship between video game genres and sales performance by using statistical inference methods to make conclusions about the broader gaming market.\n",
    "\n",
    "The video_games.csv dataset contains information about over a thousand video games released between 2004 and 2010, including variables related to game sales, playtime, and genres. This dataset was crowd-sourced from “How Long to Beat” and curated by Dr. Joe Cox, offering a comprehensive view of how games perform across different platforms and genres. By analyzing the video_games.csv dataset, we will estimate a population parameter through confidence intervals and conduct hypothesis testing to explore potential relationships between game genres and key performance metrics such as sales and playtime. This research will help provide insights into how different genres perform in terms of sales and engagement, aiding developers and publishers in making informed decisions for future game development and marketing strategies.\n",
    "\n",
    "The dataset represents a sample of video games released between 2004 and 2010, as it was collected from crowd-sourced data on the “How Long to Beat” platform. This means it does not include every video game released during that time period, only those for which users contributed playtime and sales data. The corresponding population of interest would be all video games released between 2004 and 2010 across various platforms, including those not represented in this dataset. For this project, since the dataset already represents a sample, we will perform analysis on this sample without further random sampling, treating it as representative of the larger population of video games during that period.\n",
    "\n",
    "Research Questions\n",
    "1.\tLinear Regression Question: What is the relationship between a game’s sales (quantitative response) and explanatory variables like review score, release year, and used price?\n",
    "2.\tLogistic Regression Question: How do Review Score, Year Released, and Used Price relate to the log-odds of a video game achieving above-average sales? How does a classifier built on this logistic regression model perform on new data?\n",
    "\n",
    "Response Variables\n",
    "1.\tLinear Regression: Global sales (in millions of units).\n",
    "2. Logistic Regression: Above Average Sales, 1 if US sales is above the average, 0 if US sales is at or below the average\n",
    "\n",
    "Motivation\n",
    "\n",
    "Understanding the factors influencing game sales and blockbuster status can guide developers and publishers in making data-driven decisions to optimize game development, marketing strategies, and resource allocation."
   ]
  },
  {
   "cell_type": "code",
   "execution_count": 1,
   "metadata": {},
   "outputs": [],
   "source": [
    "#Imports here\n",
    "import pandas as pd\n",
    "import matplotlib.pyplot as plt\n",
    "import seaborn as sns; sns.set()\n",
    "from sklearn.model_selection import train_test_split\n",
    "from sklearn.linear_model import LinearRegression\n",
    "import statsmodels.formula.api as smf\n",
    "import statsmodels.api as sm\n",
    "from sklearn.metrics import mean_squared_error, r2_score\n",
    "import numpy as np"
   ]
  },
  {
   "cell_type": "code",
   "execution_count": 2,
   "metadata": {},
   "outputs": [],
   "source": [
    "df = pd.read_csv(\"video_games.csv\", encoding='unicode_escape')"
   ]
  },
  {
   "cell_type": "code",
   "execution_count": 3,
   "metadata": {},
   "outputs": [
    {
     "data": {
      "text/html": [
       "<div>\n",
       "<style scoped>\n",
       "    .dataframe tbody tr th:only-of-type {\n",
       "        vertical-align: middle;\n",
       "    }\n",
       "\n",
       "    .dataframe tbody tr th {\n",
       "        vertical-align: top;\n",
       "    }\n",
       "\n",
       "    .dataframe thead th {\n",
       "        text-align: right;\n",
       "    }\n",
       "</style>\n",
       "<table border=\"1\" class=\"dataframe\">\n",
       "  <thead>\n",
       "    <tr style=\"text-align: right;\">\n",
       "      <th></th>\n",
       "      <th>Console</th>\n",
       "      <th>Title</th>\n",
       "      <th>US Sales (millions)</th>\n",
       "      <th>Block4</th>\n",
       "      <th>Block2</th>\n",
       "      <th>Block1</th>\n",
       "      <th>Block0.5</th>\n",
       "      <th>YearReleased</th>\n",
       "      <th>2004</th>\n",
       "      <th>2005</th>\n",
       "      <th>...</th>\n",
       "      <th>Tricks</th>\n",
       "      <th>Volleyball</th>\n",
       "      <th>Wakeboarding</th>\n",
       "      <th>Wrestling</th>\n",
       "      <th>FirstPerson</th>\n",
       "      <th>Platform</th>\n",
       "      <th>Isometric</th>\n",
       "      <th>SideScrolling</th>\n",
       "      <th>TopDown</th>\n",
       "      <th>ThirdPerson</th>\n",
       "    </tr>\n",
       "  </thead>\n",
       "  <tbody>\n",
       "    <tr>\n",
       "      <th>0</th>\n",
       "      <td>Nintendo DS</td>\n",
       "      <td>Super Mario 64 DS</td>\n",
       "      <td>4.69</td>\n",
       "      <td>1</td>\n",
       "      <td>1</td>\n",
       "      <td>1</td>\n",
       "      <td>1</td>\n",
       "      <td>2004</td>\n",
       "      <td>1</td>\n",
       "      <td>0</td>\n",
       "      <td>...</td>\n",
       "      <td>0</td>\n",
       "      <td>0</td>\n",
       "      <td>0</td>\n",
       "      <td>0</td>\n",
       "      <td>0</td>\n",
       "      <td>1</td>\n",
       "      <td>0</td>\n",
       "      <td>0</td>\n",
       "      <td>0</td>\n",
       "      <td>1</td>\n",
       "    </tr>\n",
       "    <tr>\n",
       "      <th>1</th>\n",
       "      <td>Sony PSP</td>\n",
       "      <td>Lumines: Puzzle Fusion</td>\n",
       "      <td>0.56</td>\n",
       "      <td>0</td>\n",
       "      <td>0</td>\n",
       "      <td>0</td>\n",
       "      <td>1</td>\n",
       "      <td>2004</td>\n",
       "      <td>1</td>\n",
       "      <td>0</td>\n",
       "      <td>...</td>\n",
       "      <td>0</td>\n",
       "      <td>0</td>\n",
       "      <td>0</td>\n",
       "      <td>0</td>\n",
       "      <td>0</td>\n",
       "      <td>0</td>\n",
       "      <td>0</td>\n",
       "      <td>0</td>\n",
       "      <td>0</td>\n",
       "      <td>0</td>\n",
       "    </tr>\n",
       "    <tr>\n",
       "      <th>2</th>\n",
       "      <td>Nintendo DS</td>\n",
       "      <td>WarioWare Touched!</td>\n",
       "      <td>0.54</td>\n",
       "      <td>0</td>\n",
       "      <td>0</td>\n",
       "      <td>0</td>\n",
       "      <td>1</td>\n",
       "      <td>2004</td>\n",
       "      <td>1</td>\n",
       "      <td>0</td>\n",
       "      <td>...</td>\n",
       "      <td>0</td>\n",
       "      <td>0</td>\n",
       "      <td>0</td>\n",
       "      <td>0</td>\n",
       "      <td>0</td>\n",
       "      <td>1</td>\n",
       "      <td>1</td>\n",
       "      <td>1</td>\n",
       "      <td>1</td>\n",
       "      <td>1</td>\n",
       "    </tr>\n",
       "    <tr>\n",
       "      <th>3</th>\n",
       "      <td>Sony PSP</td>\n",
       "      <td>Hot Shots Golf: Open Tee</td>\n",
       "      <td>0.49</td>\n",
       "      <td>0</td>\n",
       "      <td>0</td>\n",
       "      <td>0</td>\n",
       "      <td>0</td>\n",
       "      <td>2004</td>\n",
       "      <td>1</td>\n",
       "      <td>0</td>\n",
       "      <td>...</td>\n",
       "      <td>0</td>\n",
       "      <td>0</td>\n",
       "      <td>0</td>\n",
       "      <td>0</td>\n",
       "      <td>0</td>\n",
       "      <td>0</td>\n",
       "      <td>0</td>\n",
       "      <td>0</td>\n",
       "      <td>0</td>\n",
       "      <td>1</td>\n",
       "    </tr>\n",
       "    <tr>\n",
       "      <th>4</th>\n",
       "      <td>Nintendo DS</td>\n",
       "      <td>Spider-Man 2</td>\n",
       "      <td>0.45</td>\n",
       "      <td>0</td>\n",
       "      <td>0</td>\n",
       "      <td>0</td>\n",
       "      <td>0</td>\n",
       "      <td>2004</td>\n",
       "      <td>1</td>\n",
       "      <td>0</td>\n",
       "      <td>...</td>\n",
       "      <td>0</td>\n",
       "      <td>0</td>\n",
       "      <td>0</td>\n",
       "      <td>0</td>\n",
       "      <td>0</td>\n",
       "      <td>1</td>\n",
       "      <td>0</td>\n",
       "      <td>1</td>\n",
       "      <td>0</td>\n",
       "      <td>1</td>\n",
       "    </tr>\n",
       "  </tbody>\n",
       "</table>\n",
       "<p>5 rows × 166 columns</p>\n",
       "</div>"
      ],
      "text/plain": [
       "       Console                     Title  US Sales (millions)  Block4  Block2  \\\n",
       "0  Nintendo DS         Super Mario 64 DS                 4.69       1       1   \n",
       "1     Sony PSP    Lumines: Puzzle Fusion                 0.56       0       0   \n",
       "2  Nintendo DS        WarioWare Touched!                 0.54       0       0   \n",
       "3     Sony PSP  Hot Shots Golf: Open Tee                 0.49       0       0   \n",
       "4  Nintendo DS              Spider-Man 2                 0.45       0       0   \n",
       "\n",
       "   Block1  Block0.5  YearReleased  2004  2005  ...  Tricks  Volleyball  \\\n",
       "0       1         1          2004     1     0  ...       0           0   \n",
       "1       0         1          2004     1     0  ...       0           0   \n",
       "2       0         1          2004     1     0  ...       0           0   \n",
       "3       0         0          2004     1     0  ...       0           0   \n",
       "4       0         0          2004     1     0  ...       0           0   \n",
       "\n",
       "   Wakeboarding  Wrestling  FirstPerson  Platform Isometric SideScrolling  \\\n",
       "0             0          0            0         1         0             0   \n",
       "1             0          0            0         0         0             0   \n",
       "2             0          0            0         1         1             1   \n",
       "3             0          0            0         0         0             0   \n",
       "4             0          0            0         1         0             1   \n",
       "\n",
       "   TopDown  ThirdPerson  \n",
       "0        0            1  \n",
       "1        0            0  \n",
       "2        1            1  \n",
       "3        0            1  \n",
       "4        0            1  \n",
       "\n",
       "[5 rows x 166 columns]"
      ]
     },
     "execution_count": 3,
     "metadata": {},
     "output_type": "execute_result"
    }
   ],
   "source": [
    "df.head()"
   ]
  },
  {
   "cell_type": "markdown",
   "metadata": {},
   "source": [
    "## 2. Linear Regression Analytical Tasks"
   ]
  },
  {
   "cell_type": "markdown",
   "metadata": {},
   "source": [
    "Research Questions\n",
    "- Linear Regression Question: What is the relationship between a game’s sales (quantitative response) and explanatory variables like review score, release year, and used price?\n",
    "\n",
    "Response Variables\n",
    "- Linear Regression: Global sales (in millions of units)."
   ]
  },
  {
   "cell_type": "code",
   "execution_count": 4,
   "metadata": {},
   "outputs": [
    {
     "name": "stdout",
     "output_type": "stream",
     "text": [
      "Index(['Console', 'Title', 'US Sales (millions)', 'Block4', 'Block2', 'Block1',\n",
      "       'Block0.5', 'YearReleased', '2004', '2005',\n",
      "       ...\n",
      "       'Tricks', 'Volleyball', 'Wakeboarding', 'Wrestling', 'FirstPerson',\n",
      "       'Platform', 'Isometric', 'SideScrolling', 'TopDown', 'ThirdPerson'],\n",
      "      dtype='object', length=166)\n"
     ]
    }
   ],
   "source": [
    "print(df.columns)"
   ]
  },
  {
   "cell_type": "code",
   "execution_count": 5,
   "metadata": {},
   "outputs": [
    {
     "name": "stdout",
     "output_type": "stream",
     "text": [
      "   US Sales (millions)  Review Score  YearReleased  Usedprice\n",
      "0                 4.69            85          2004      24.95\n",
      "1                 0.56            89          2004      14.95\n",
      "2                 0.54            81          2004      22.95\n",
      "3                 0.49            81          2004      12.95\n",
      "4                 0.45            61          2004      14.95\n"
     ]
    }
   ],
   "source": [
    "df_cleaned = df[['US Sales (millions)', 'Review Score', 'YearReleased', 'Usedprice']]\n",
    "df_cleaned = df_cleaned.dropna()\n",
    "print(df_cleaned.head())"
   ]
  },
  {
   "cell_type": "code",
   "execution_count": 6,
   "metadata": {},
   "outputs": [],
   "source": [
    "X = df_cleaned.drop(columns=['US Sales (millions)'])\n",
    "y = df_cleaned['US Sales (millions)']\n",
    "X_train, X_test, y_train, y_test = train_test_split(X, y, test_size=0.2, random_state=42)"
   ]
  },
  {
   "cell_type": "code",
   "execution_count": 7,
   "metadata": {},
   "outputs": [
    {
     "data": {
      "text/html": [
       "<table class=\"simpletable\">\n",
       "<caption>OLS Regression Results</caption>\n",
       "<tr>\n",
       "  <th>Dep. Variable:</th>    <td>US Sales (millions)</td> <th>  R-squared:         </th> <td>   0.136</td>\n",
       "</tr>\n",
       "<tr>\n",
       "  <th>Model:</th>                    <td>OLS</td>         <th>  Adj. R-squared:    </th> <td>   0.134</td>\n",
       "</tr>\n",
       "<tr>\n",
       "  <th>Method:</th>              <td>Least Squares</td>    <th>  F-statistic:       </th> <td>   74.23</td>\n",
       "</tr>\n",
       "<tr>\n",
       "  <th>Date:</th>              <td>Wed, 11 Dec 2024</td>   <th>  Prob (F-statistic):</th> <td>1.39e-44</td>\n",
       "</tr>\n",
       "<tr>\n",
       "  <th>Time:</th>                  <td>08:28:04</td>       <th>  Log-Likelihood:    </th> <td> -1979.1</td>\n",
       "</tr>\n",
       "<tr>\n",
       "  <th>No. Observations:</th>       <td>  1416</td>        <th>  AIC:               </th> <td>   3966.</td>\n",
       "</tr>\n",
       "<tr>\n",
       "  <th>Df Residuals:</th>           <td>  1412</td>        <th>  BIC:               </th> <td>   3987.</td>\n",
       "</tr>\n",
       "<tr>\n",
       "  <th>Df Model:</th>               <td>     3</td>        <th>                     </th>     <td> </td>   \n",
       "</tr>\n",
       "<tr>\n",
       "  <th>Covariance Type:</th>       <td>nonrobust</td>      <th>                     </th>     <td> </td>   \n",
       "</tr>\n",
       "</table>\n",
       "<table class=\"simpletable\">\n",
       "<tr>\n",
       "        <td></td>          <th>coef</th>     <th>std err</th>      <th>t</th>      <th>P>|t|</th>  <th>[0.025</th>    <th>0.975]</th>  \n",
       "</tr>\n",
       "<tr>\n",
       "  <th>const</th>        <td>  144.4900</td> <td>   43.496</td> <td>    3.322</td> <td> 0.001</td> <td>   59.167</td> <td>  229.813</td>\n",
       "</tr>\n",
       "<tr>\n",
       "  <th>Review Score</th> <td>    0.0211</td> <td>    0.002</td> <td>   10.877</td> <td> 0.000</td> <td>    0.017</td> <td>    0.025</td>\n",
       "</tr>\n",
       "<tr>\n",
       "  <th>YearReleased</th> <td>   -0.0727</td> <td>    0.022</td> <td>   -3.354</td> <td> 0.001</td> <td>   -0.115</td> <td>   -0.030</td>\n",
       "</tr>\n",
       "<tr>\n",
       "  <th>Usedprice</th>    <td>    0.0270</td> <td>    0.004</td> <td>    6.949</td> <td> 0.000</td> <td>    0.019</td> <td>    0.035</td>\n",
       "</tr>\n",
       "</table>\n",
       "<table class=\"simpletable\">\n",
       "<tr>\n",
       "  <th>Omnibus:</th>       <td>1767.595</td> <th>  Durbin-Watson:     </th>  <td>   2.068</td> \n",
       "</tr>\n",
       "<tr>\n",
       "  <th>Prob(Omnibus):</th>  <td> 0.000</td>  <th>  Jarque-Bera (JB):  </th> <td>233656.988</td>\n",
       "</tr>\n",
       "<tr>\n",
       "  <th>Skew:</th>           <td> 6.598</td>  <th>  Prob(JB):          </th>  <td>    0.00</td> \n",
       "</tr>\n",
       "<tr>\n",
       "  <th>Kurtosis:</th>       <td>64.532</td>  <th>  Cond. No.          </th>  <td>3.35e+06</td> \n",
       "</tr>\n",
       "</table><br/><br/>Notes:<br/>[1] Standard Errors assume that the covariance matrix of the errors is correctly specified.<br/>[2] The condition number is large, 3.35e+06. This might indicate that there are<br/>strong multicollinearity or other numerical problems."
      ],
      "text/latex": [
       "\\begin{center}\n",
       "\\begin{tabular}{lclc}\n",
       "\\toprule\n",
       "\\textbf{Dep. Variable:}    & US Sales (millions) & \\textbf{  R-squared:         } &     0.136   \\\\\n",
       "\\textbf{Model:}            &         OLS         & \\textbf{  Adj. R-squared:    } &     0.134   \\\\\n",
       "\\textbf{Method:}           &    Least Squares    & \\textbf{  F-statistic:       } &     74.23   \\\\\n",
       "\\textbf{Date:}             &   Wed, 11 Dec 2024  & \\textbf{  Prob (F-statistic):} &  1.39e-44   \\\\\n",
       "\\textbf{Time:}             &       08:28:04      & \\textbf{  Log-Likelihood:    } &   -1979.1   \\\\\n",
       "\\textbf{No. Observations:} &          1416       & \\textbf{  AIC:               } &     3966.   \\\\\n",
       "\\textbf{Df Residuals:}     &          1412       & \\textbf{  BIC:               } &     3987.   \\\\\n",
       "\\textbf{Df Model:}         &             3       & \\textbf{                     } &             \\\\\n",
       "\\textbf{Covariance Type:}  &      nonrobust      & \\textbf{                     } &             \\\\\n",
       "\\bottomrule\n",
       "\\end{tabular}\n",
       "\\begin{tabular}{lcccccc}\n",
       "                      & \\textbf{coef} & \\textbf{std err} & \\textbf{t} & \\textbf{P$> |$t$|$} & \\textbf{[0.025} & \\textbf{0.975]}  \\\\\n",
       "\\midrule\n",
       "\\textbf{const}        &     144.4900  &       43.496     &     3.322  &         0.001        &       59.167    &      229.813     \\\\\n",
       "\\textbf{Review Score} &       0.0211  &        0.002     &    10.877  &         0.000        &        0.017    &        0.025     \\\\\n",
       "\\textbf{YearReleased} &      -0.0727  &        0.022     &    -3.354  &         0.001        &       -0.115    &       -0.030     \\\\\n",
       "\\textbf{Usedprice}    &       0.0270  &        0.004     &     6.949  &         0.000        &        0.019    &        0.035     \\\\\n",
       "\\bottomrule\n",
       "\\end{tabular}\n",
       "\\begin{tabular}{lclc}\n",
       "\\textbf{Omnibus:}       & 1767.595 & \\textbf{  Durbin-Watson:     } &     2.068   \\\\\n",
       "\\textbf{Prob(Omnibus):} &   0.000  & \\textbf{  Jarque-Bera (JB):  } & 233656.988  \\\\\n",
       "\\textbf{Skew:}          &   6.598  & \\textbf{  Prob(JB):          } &      0.00   \\\\\n",
       "\\textbf{Kurtosis:}      &  64.532  & \\textbf{  Cond. No.          } &  3.35e+06   \\\\\n",
       "\\bottomrule\n",
       "\\end{tabular}\n",
       "%\\caption{OLS Regression Results}\n",
       "\\end{center}\n",
       "\n",
       "Notes: \\newline\n",
       " [1] Standard Errors assume that the covariance matrix of the errors is correctly specified. \\newline\n",
       " [2] The condition number is large, 3.35e+06. This might indicate that there are \\newline\n",
       " strong multicollinearity or other numerical problems."
      ],
      "text/plain": [
       "<class 'statsmodels.iolib.summary.Summary'>\n",
       "\"\"\"\n",
       "                             OLS Regression Results                            \n",
       "===============================================================================\n",
       "Dep. Variable:     US Sales (millions)   R-squared:                       0.136\n",
       "Model:                             OLS   Adj. R-squared:                  0.134\n",
       "Method:                  Least Squares   F-statistic:                     74.23\n",
       "Date:                 Wed, 11 Dec 2024   Prob (F-statistic):           1.39e-44\n",
       "Time:                         08:28:04   Log-Likelihood:                -1979.1\n",
       "No. Observations:                 1416   AIC:                             3966.\n",
       "Df Residuals:                     1412   BIC:                             3987.\n",
       "Df Model:                            3                                         \n",
       "Covariance Type:             nonrobust                                         \n",
       "================================================================================\n",
       "                   coef    std err          t      P>|t|      [0.025      0.975]\n",
       "--------------------------------------------------------------------------------\n",
       "const          144.4900     43.496      3.322      0.001      59.167     229.813\n",
       "Review Score     0.0211      0.002     10.877      0.000       0.017       0.025\n",
       "YearReleased    -0.0727      0.022     -3.354      0.001      -0.115      -0.030\n",
       "Usedprice        0.0270      0.004      6.949      0.000       0.019       0.035\n",
       "==============================================================================\n",
       "Omnibus:                     1767.595   Durbin-Watson:                   2.068\n",
       "Prob(Omnibus):                  0.000   Jarque-Bera (JB):           233656.988\n",
       "Skew:                           6.598   Prob(JB):                         0.00\n",
       "Kurtosis:                      64.532   Cond. No.                     3.35e+06\n",
       "==============================================================================\n",
       "\n",
       "Notes:\n",
       "[1] Standard Errors assume that the covariance matrix of the errors is correctly specified.\n",
       "[2] The condition number is large, 3.35e+06. This might indicate that there are\n",
       "strong multicollinearity or other numerical problems.\n",
       "\"\"\""
      ]
     },
     "execution_count": 7,
     "metadata": {},
     "output_type": "execute_result"
    }
   ],
   "source": [
    "X_train_sm = sm.add_constant(X_train)\n",
    "model_sm = sm.OLS(y_train, X_train_sm).fit()\n",
    "model_sm.summary()"
   ]
  },
  {
   "cell_type": "code",
   "execution_count": 8,
   "metadata": {},
   "outputs": [
    {
     "name": "stdout",
     "output_type": "stream",
     "text": [
      "RMSE: 1.0754998804806593\n"
     ]
    }
   ],
   "source": [
    "X_test_sm = sm.add_constant(X_test)\n",
    "y_pred = model_sm.predict(X_test_sm)\n",
    "rmse = np.sqrt(mean_squared_error(y_test, y_pred))\n",
    "print(f\"RMSE: {rmse}\")"
   ]
  },
  {
   "cell_type": "code",
   "execution_count": 9,
   "metadata": {},
   "outputs": [
    {
     "data": {
      "image/png": "[encoded data removed]",
      "text/plain": [
       "<Figure size 640x480 with 1 Axes>"
      ]
     },
     "metadata": {},
     "output_type": "display_data"
    }
   ],
   "source": [
    "residuals = y_test - y_pred\n",
    "\n",
    "plt.scatter(y_pred, residuals)\n",
    "plt.xlabel('Predicted Values')\n",
    "plt.ylabel('Residuals')\n",
    "plt.title('Residuals vs. Predicted')\n",
    "plt.show()"
   ]
  },
  {
   "cell_type": "markdown",
   "metadata": {},
   "source": [
    "\n",
    "US Sales (millions) = 144.49 + 0.0211 * Review Score - 0.0727 * YearReleased + 0.0270 * UsedPrice"
   ]
  },
  {
   "cell_type": "markdown",
   "metadata": {},
   "source": [
    "**Interpretation of Regression Coefficients**\n",
    "\n",
    "The linear regression model provides insights into the relationship between US Sales (millions) and the predictors: Review Score, YearReleased, and UsedPrice. The intercept (144.49) represents the hypothetical sales if all predictors were zero, although this is not meaningful in practice. For Review Score, a 1-unit increase is associated with an increase of approximately 0.0211 million units in sales, holding all other variables constant. For YearReleased, each additional year is associated with a 0.0727 million unit decrease in sales, suggesting that older games tend to have higher sales. Finally, for UsedPrice, a 1-unit increase is associated with an increase of approximately 0.0270 million units in sales, indicating that games with higher used prices tend to have better sales performance.\n",
    "\n",
    "**Confidence Intervals**\n",
    "\n",
    "The 95% confidence intervals for the predictors confirm the statistical significance of the relationships. For Review Score, the interval ranges from 0.017 to 0.025, for YearReleased, it ranges from -0.115 to -0.030, and for UsedPrice, it ranges from 0.019 to 0.035. None of these intervals include zero, indicating strong evidence that these predictors are significantly associated with US Sales (millions).\n",
    "\n",
    "**Model Performance**\n",
    "\n",
    "The model explains approximately 13.6% of the variability in US Sales (millions) based on the R² value, with an adjusted R² of 13.4%, accounting for the number of predictors. This indicates that while the predictors are statistically significant, the model leaves a significant portion of variability unexplained. The RMSE, calculated as 1.0755 million units, represents the average deviation of predicted sales from actual sales. While the model provides meaningful insights, it suggests that additional predictors could improve the explained variability.\n",
    "\n",
    "**Residual Analysis**\n",
    "\n",
    "The residuals vs. predicted values plot indicates that there is no clear pattern in the residuals, suggesting that the linearity assumption is reasonable. However, a few extreme outliers, with residuals exceeding 10 or falling below -2, may slightly impact the model’s predictive performance."
   ]
  },
  {
   "cell_type": "markdown",
   "metadata": {},
   "source": [
    "**Conclusion**\n",
    "\n",
    "The analysis shows that Review Score, YearReleased, and UsedPrice are statistically significant predictors of US Sales (millions). Higher review scores and used prices are positively associated with increased sales, while later release years are associated with lower sales. Despite these findings, the model explains only a modest portion of the variability in sales. Future analyses could include additional predictors, such as game genre, marketing budget, or platform, to improve the model’s explanatory power and predictive accuracy."
   ]
  },
  {
   "cell_type": "markdown",
   "metadata": {},
   "source": [
    "## 3. Logistic Regression Analytical Tasks"
   ]
  },
  {
   "cell_type": "markdown",
   "metadata": {},
   "source": [
    "Research Questions\n",
    "- \"How do Review Score, Year Released, and Used Price relate to the log-odds of a video game achieving above-average sales? Additionally, how does a classifier built on this logistic regression model perform on new data?\"\n",
    "\n",
    "Response Variables\n",
    "- Logistic regression: Above Average Sales, 1 if US sales is above the average, 0 if US sales is at or below the average"
   ]
  },
  {
   "cell_type": "code",
   "execution_count": 10,
   "metadata": {},
   "outputs": [],
   "source": [
    "from sklearn.metrics import roc_auc_score, roc_curve"
   ]
  },
  {
   "cell_type": "code",
   "execution_count": 11,
   "metadata": {},
   "outputs": [
    {
     "name": "stdout",
     "output_type": "stream",
     "text": [
      "Optimization terminated successfully.\n",
      "         Current function value: 0.438937\n",
      "         Iterations 8\n"
     ]
    },
    {
     "data": {
      "text/html": [
       "<table class=\"simpletable\">\n",
       "<caption>Logit Regression Results</caption>\n",
       "<tr>\n",
       "  <th>Dep. Variable:</th>   <td>US Sales (millions)</td> <th>  No. Observations:  </th>  <td>  1416</td>  \n",
       "</tr>\n",
       "<tr>\n",
       "  <th>Model:</th>                  <td>Logit</td>        <th>  Df Residuals:      </th>  <td>  1412</td>  \n",
       "</tr>\n",
       "<tr>\n",
       "  <th>Method:</th>                  <td>MLE</td>         <th>  Df Model:          </th>  <td>     3</td>  \n",
       "</tr>\n",
       "<tr>\n",
       "  <th>Date:</th>             <td>Wed, 11 Dec 2024</td>   <th>  Pseudo R-squ.:     </th>  <td>0.1786</td>  \n",
       "</tr>\n",
       "<tr>\n",
       "  <th>Time:</th>                 <td>08:28:05</td>       <th>  Log-Likelihood:    </th> <td> -621.53</td> \n",
       "</tr>\n",
       "<tr>\n",
       "  <th>converged:</th>              <td>True</td>         <th>  LL-Null:           </th> <td> -756.69</td> \n",
       "</tr>\n",
       "<tr>\n",
       "  <th>Covariance Type:</th>      <td>nonrobust</td>      <th>  LLR p-value:       </th> <td>2.651e-58</td>\n",
       "</tr>\n",
       "</table>\n",
       "<table class=\"simpletable\">\n",
       "<tr>\n",
       "        <td></td>          <th>coef</th>     <th>std err</th>      <th>z</th>      <th>P>|z|</th>  <th>[0.025</th>    <th>0.975]</th>  \n",
       "</tr>\n",
       "<tr>\n",
       "  <th>const</th>        <td>  190.5652</td> <td>  118.550</td> <td>    1.607</td> <td> 0.108</td> <td>  -41.788</td> <td>  422.918</td>\n",
       "</tr>\n",
       "<tr>\n",
       "  <th>Review Score</th> <td>    0.0946</td> <td>    0.007</td> <td>   12.724</td> <td> 0.000</td> <td>    0.080</td> <td>    0.109</td>\n",
       "</tr>\n",
       "<tr>\n",
       "  <th>YearReleased</th> <td>   -0.0992</td> <td>    0.059</td> <td>   -1.678</td> <td> 0.093</td> <td>   -0.215</td> <td>    0.017</td>\n",
       "</tr>\n",
       "<tr>\n",
       "  <th>Usedprice</th>    <td>    0.0212</td> <td>    0.010</td> <td>    2.073</td> <td> 0.038</td> <td>    0.001</td> <td>    0.041</td>\n",
       "</tr>\n",
       "</table>"
      ],
      "text/latex": [
       "\\begin{center}\n",
       "\\begin{tabular}{lclc}\n",
       "\\toprule\n",
       "\\textbf{Dep. Variable:}   & US Sales (millions) & \\textbf{  No. Observations:  } &     1416    \\\\\n",
       "\\textbf{Model:}           &        Logit        & \\textbf{  Df Residuals:      } &     1412    \\\\\n",
       "\\textbf{Method:}          &         MLE         & \\textbf{  Df Model:          } &        3    \\\\\n",
       "\\textbf{Date:}            &   Wed, 11 Dec 2024  & \\textbf{  Pseudo R-squ.:     } &   0.1786    \\\\\n",
       "\\textbf{Time:}            &       08:28:05      & \\textbf{  Log-Likelihood:    } &   -621.53   \\\\\n",
       "\\textbf{converged:}       &         True        & \\textbf{  LL-Null:           } &   -756.69   \\\\\n",
       "\\textbf{Covariance Type:} &      nonrobust      & \\textbf{  LLR p-value:       } & 2.651e-58   \\\\\n",
       "\\bottomrule\n",
       "\\end{tabular}\n",
       "\\begin{tabular}{lcccccc}\n",
       "                      & \\textbf{coef} & \\textbf{std err} & \\textbf{z} & \\textbf{P$> |$z$|$} & \\textbf{[0.025} & \\textbf{0.975]}  \\\\\n",
       "\\midrule\n",
       "\\textbf{const}        &     190.5652  &      118.550     &     1.607  &         0.108        &      -41.788    &      422.918     \\\\\n",
       "\\textbf{Review Score} &       0.0946  &        0.007     &    12.724  &         0.000        &        0.080    &        0.109     \\\\\n",
       "\\textbf{YearReleased} &      -0.0992  &        0.059     &    -1.678  &         0.093        &       -0.215    &        0.017     \\\\\n",
       "\\textbf{Usedprice}    &       0.0212  &        0.010     &     2.073  &         0.038        &        0.001    &        0.041     \\\\\n",
       "\\bottomrule\n",
       "\\end{tabular}\n",
       "%\\caption{Logit Regression Results}\n",
       "\\end{center}"
      ],
      "text/plain": [
       "<class 'statsmodels.iolib.summary.Summary'>\n",
       "\"\"\"\n",
       "                            Logit Regression Results                           \n",
       "===============================================================================\n",
       "Dep. Variable:     US Sales (millions)   No. Observations:                 1416\n",
       "Model:                           Logit   Df Residuals:                     1412\n",
       "Method:                            MLE   Df Model:                            3\n",
       "Date:                 Wed, 11 Dec 2024   Pseudo R-squ.:                  0.1786\n",
       "Time:                         08:28:05   Log-Likelihood:                -621.53\n",
       "converged:                        True   LL-Null:                       -756.69\n",
       "Covariance Type:             nonrobust   LLR p-value:                 2.651e-58\n",
       "================================================================================\n",
       "                   coef    std err          z      P>|z|      [0.025      0.975]\n",
       "--------------------------------------------------------------------------------\n",
       "const          190.5652    118.550      1.607      0.108     -41.788     422.918\n",
       "Review Score     0.0946      0.007     12.724      0.000       0.080       0.109\n",
       "YearReleased    -0.0992      0.059     -1.678      0.093      -0.215       0.017\n",
       "Usedprice        0.0212      0.010      2.073      0.038       0.001       0.041\n",
       "================================================================================\n",
       "\"\"\""
      ]
     },
     "execution_count": 11,
     "metadata": {},
     "output_type": "execute_result"
    }
   ],
   "source": [
    "y_train_logistic = (y_train > y_train.mean()).astype(int)  # 1 if above average sales, 0 otherwise\n",
    "X_train_sm_logistic = sm.add_constant(X_train)\n",
    "logit_model = sm.Logit(y_train_logistic, X_train_sm_logistic).fit()\n",
    "logit_model.summary()"
   ]
  },
  {
   "cell_type": "markdown",
   "metadata": {},
   "source": [
    "Review Score: Higher values of Review Score are associated with a higher probability of achieving above-average sales.\n",
    "A 1-unit increase in Review Score increases the log-odds of success by 0.0946 (statistically significant).\n",
    "\n",
    "YearReleased: Lower values of YearReleased (i.e., older release years) are associated with a higher probability of achieving above-average sales.\n",
    "However, this relationship is not statistically significant (p-value = 0.093).\n",
    "\n",
    "UsedPrice: Higher values of UsedPrice are associated with a higher probability of achieving above-average sales.\n",
    "A 1-unit increase in UsedPrice increases the log-odds of success by 0.0212 (statistically significant)."
   ]
  },
  {
   "cell_type": "code",
   "execution_count": 12,
   "metadata": {},
   "outputs": [
    {
     "name": "stdout",
     "output_type": "stream",
     "text": [
      "Pseudo-R²: 0.1786\n",
      "AUC: 0.7842\n"
     ]
    }
   ],
   "source": [
    "y_pred_prob = logit_model.predict(X_train_sm_logistic)\n",
    "pseudo_r2 = 1 - (logit_model.llf / logit_model.llnull)\n",
    "print(f\"Pseudo-R²: {pseudo_r2:.4f}\")\n",
    "auc = roc_auc_score(y_train_logistic, y_pred_prob)\n",
    "print(f\"AUC: {auc:.4f}\")"
   ]
  },
  {
   "cell_type": "markdown",
   "metadata": {},
   "source": [
    "Pseudo-R²: 0.1786\n",
    "This indicates that the model explains approximately 17.86% of the variability in the log-odds of achieving above-average sales. While this is not a very high value, it suggests that the predictors collectively improve the model compared to a null model with no predictors.\n",
    "\n",
    "AUC (Area Under the Curve): 0.7842\n",
    "The AUC value of 0.7842 reflects the model's ability to distinguish between games that achieve above-average sales and those that do not. An AUC value closer to 1.0 represents excellent classification performance, while 0.5 indicates random guessing. With an AUC of 0.7842, the model demonstrates a good ability to classify games as successful or not.\n",
    "\n",
    "The logistic regression model effectively predicts above-average sales with good classification performance (AUC) but moderate explanatory power (Pseudo-R²). This suggests that while the model is reliable for classification, there may still be room for improvement in capturing more variability in the log-odds of success. Adding additional predictors or refining existing ones could further enhance the model’s performance."
   ]
  },
  {
   "cell_type": "code",
   "execution_count": 13,
   "metadata": {},
   "outputs": [],
   "source": [
    "X_test_sm_logistic = sm.add_constant(X_test)\n",
    "y_pred_prob_test = logit_model.predict(X_test_sm_logistic)\n",
    "y_pred_test = (y_pred_prob_test >= 0.5).astype(int)\n",
    "\n",
    "y_test_logistic = (y_test > y_train.mean()).astype(int)"
   ]
  },
  {
   "cell_type": "code",
   "execution_count": 14,
   "metadata": {},
   "outputs": [
    {
     "name": "stdout",
     "output_type": "stream",
     "text": [
      "Accuracy: 0.8305\n",
      "Sensitivity (Recall): 0.3506\n",
      "Specificity: 0.9639\n",
      "[[267  10]\n",
      " [ 50  27]]\n"
     ]
    }
   ],
   "source": [
    "from sklearn.metrics import confusion_matrix, accuracy_score, recall_score\n",
    "\n",
    "cm = confusion_matrix(y_test_logistic, y_pred_test)\n",
    "\n",
    "accuracy = accuracy_score(y_test_logistic, y_pred_test)\n",
    "sensitivity = recall_score(y_test_logistic, y_pred_test)\n",
    "specificity = cm[0, 0] / (cm[0, 0] + cm[0, 1])  # TN / (TN + FP)\n",
    "\n",
    "print(f\"Accuracy: {accuracy:.4f}\")\n",
    "print(f\"Sensitivity (Recall): {sensitivity:.4f}\")\n",
    "print(f\"Specificity: {specificity:.4f}\")\n",
    "print(cm)"
   ]
  },
  {
   "cell_type": "markdown",
   "metadata": {},
   "source": [
    "The type of error to minimize is false negatives (Type II errors). These occur when a game that actually achieves above-average sales is incorrectly predicted to fail. In the context of video game sales, false negatives could lead to missed opportunities, such as underinvesting in games with high potential or failing to allocate sufficient marketing resources. Minimizing false negatives is critical to ensuring that successful games are identified and prioritized, maximizing their commercial success and profitability."
   ]
  },
  {
   "cell_type": "markdown",
   "metadata": {},
   "source": [
    "While the classifier performs well in terms of overall accuracy (83.05%) and specificity (96.39%), its low sensitivity (35.06%) is a concern. The low sensitivity means the model frequently fails to identify games that achieve above-average sales, which conflicts with the goal of minimizing false negatives. As a result, the current classifier is not fully satisfactory for this objective. Adjusting the probability threshold to improve sensitivity or exploring additional predictors could help create a more balanced and effective model for identifying successful games."
   ]
  },
  {
   "cell_type": "markdown",
   "metadata": {},
   "source": [
    "Conclusion:\n",
    "The logistic regression model identifies Review Score and UsedPrice as significant predictors of above-average sales, with higher values of both increasing the likelihood of success. The model shows good classification performance with an AUC of 0.7842, but its low sensitivity (35.06%) highlights a significant weakness in identifying successful games. While the model effectively avoids false positives, its tendency to miss true successes makes it less suitable for minimizing false negatives. To improve its utility, further refinement is needed to increase sensitivity and better align with the goal of accurately identifying successful games."
   ]
  },
  {
   "cell_type": "markdown",
   "metadata": {},
   "source": [
    "## Any other type of analysis/question you want to explore with this dataset.\n",
    "\n",
    "<u>Why?</u>: Sometimes undergraduate students will put the research projects that they did for their classes on their resumes when applying for graduate schools, internships, and jobs. If you're interested in showcasing cool analyses to write on your resume, this section could help with that. **(This section is not worth any points though).**"
   ]
  },
  {
   "cell_type": "code",
   "execution_count": null,
   "metadata": {},
   "outputs": [],
   "source": []
  },
  {
   "cell_type": "code",
   "execution_count": null,
   "metadata": {},
   "outputs": [],
   "source": []
  },
  {
   "cell_type": "code",
   "execution_count": null,
   "metadata": {},
   "outputs": [],
   "source": []
  },
  {
   "cell_type": "code",
   "execution_count": null,
   "metadata": {},
   "outputs": [],
   "source": []
  },
  {
   "cell_type": "code",
   "execution_count": null,
   "metadata": {},
   "outputs": [],
   "source": []
  },
  {
   "cell_type": "code",
   "execution_count": null,
   "metadata": {},
   "outputs": [],
   "source": []
  },
  {
   "cell_type": "code",
   "execution_count": null,
   "metadata": {},
   "outputs": [],
   "source": []
  },
  {
   "cell_type": "code",
   "execution_count": null,
   "metadata": {},
   "outputs": [],
   "source": []
  },
  {
   "cell_type": "code",
   "execution_count": null,
   "metadata": {},
   "outputs": [],
   "source": []
  },
  {
   "cell_type": "markdown",
   "metadata": {},
   "source": [
    "## 4. Conclusion"
   ]
  },
  {
   "cell_type": "markdown",
   "metadata": {},
   "source": [
    "In summary, we fitted two regression models. First, we conducted a linear regression task to analyze the relationship between game's sales and the review score, release year, and used price. The model we fitted: US Sales (millions) = 144.49 + 0.0211 * Review Score - 0.0727 * YearReleased + 0.0270 * UsedPrice. According to the analysis, the review score and used prices were positively related to the sales. However, the later the game was released, the lower the sales were. Through the residual analysis, we determined that this model met the linearity assumption, but the strength of the model was weak because the R² and adjusted R² values were only about 0.13. \n",
    "\n",
    "\n",
    "Secondly, through the logistic regression analytical task, the relationship between the Review Score, Year Released, Used Price and the log-odds of a video game achieving above-average sales was identified, and additionally classifier was built and evaluated. The model we fitted: log-odds of being above average sales = 190.5652 + 0.0946 * Review Score - 0.0992 * YearReleased + 0.0212 * UsedPrice. As a result of the analysis, it can be seen that the review score and used price are important variables, and an increase in one unit of those variables affects the increase in sales. Although the Pseudo-R² was about 0.17 which is not high, the AUC was about 0.78 indicating that the strength of the model was strong. In the context of this study, it is important to minimize false negatives because it is important to recognize games that can have high sales and potential. However, according to the classifier, the sensitivity was low at about 35%.\n",
    "\n",
    "There are several limitations to this study. The generalizability of the results may have been limited because the size of the data used to fit the model was reduced in the process of dividing it into training data and test data. Also, there is a fact that the interpretation of the slopes or results may not be reliable because the examination process for multicollinearity of predictor variables is missing. Also, the model strength must be increased by adding variables.\n",
    "\n",
    "Future research can use Backwards Elimination Algorithm or Forward Selection Algorithm to fit the best model to predict game's sales. This allows game developers or industry players to optimize game development and marketing strategies, as they can better understand the factors that influence game sales and blockbuster status."
   ]
  }
 ],
 "metadata": {
  "kernelspec": {
   "display_name": "Python 3 (ipykernel)",
   "language": "python",
   "name": "python3"
  },
  "language_info": {
   "codemirror_mode": {
    "name": "ipython",
    "version": 3
   },
   "file_extension": ".py",
   "mimetype": "text/x-python",
   "name": "python",
   "nbconvert_exporter": "python",
   "pygments_lexer": "ipython3",
   "version": "3.12.3"
  }
 },
 "nbformat": 4,
 "nbformat_minor": 4
}
